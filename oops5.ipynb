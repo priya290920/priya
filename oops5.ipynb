{
 "cells": [
  {
   "cell_type": "markdown",
   "metadata": {},
   "source": [
    "## Topics "
   ]
  },
  {
   "cell_type": "code",
   "execution_count": null,
   "metadata": {},
   "outputs": [],
   "source": [
    "1.inheritance\n",
    "2.Has-A Relationship\n",
    "3.Is-A Relationship\n",
    "4.Is-A Vs Has-A Relationship\n",
    "5.composition vs aggregation\n",
    "\n",
    "Types of inheritance:\n",
    "    a.single inheritance\n",
    "    b.multilevel inheritance\n",
    "    c.hierarchical inheritance\n",
    "    d.multiple inheritance\n",
    "    e.hybrid inheritance\n",
    "    f.cyclic inheritance\n",
    "6.Method Resolution Order (MRO)\n",
    "7.super() method"
   ]
  },
  {
   "cell_type": "markdown",
   "metadata": {},
   "source": [
    "### Using members of one class inside other class\n",
    "##### 1.by composition (Has-A Relationship)\n",
    "##### 2.by inheritance(Is-A Relationship)"
   ]
  },
  {
   "cell_type": "code",
   "execution_count": null,
   "metadata": {},
   "outputs": [],
   "source": [
    "1.BY COMPOSITION(HAS-A RELATIONSHIP)\n",
    "\n",
    "by using class name or by creating object we can access members of one class in\n",
    "another class is called composition\n",
    "The main advantage of Has-A Relationship is code reusability."
   ]
  },
  {
   "cell_type": "code",
   "execution_count": 3,
   "metadata": {},
   "outputs": [
    {
     "name": "stdout",
     "output_type": "stream",
     "text": [
      "car class using engine class functionality\n",
      "10\n",
      "20\n",
      "engine is a main part of car\n"
     ]
    }
   ],
   "source": [
    "# example program for Has-A Relationship\n",
    "class engine:\n",
    "    a=10\n",
    "    def __init__(self):\n",
    "        self.b=20\n",
    "    def m1(self):\n",
    "        print(\"engine is a main part of car\")\n",
    "class car:\n",
    "    def __init__(self):\n",
    "        self.engine=engine()\n",
    "    def m2(self):\n",
    "        print(\"car class using engine class functionality\")\n",
    "        print(self.engine.a)\n",
    "        print(self.engine.b)\n",
    "        self.engine.m1()\n",
    "c=car()\n",
    "c.m2()\n",
    "        \n",
    "        "
   ]
  },
  {
   "cell_type": "code",
   "execution_count": 2,
   "metadata": {},
   "outputs": [
    {
     "name": "stdout",
     "output_type": "stream",
     "text": [
      "car class using engine class functionality\n",
      "30\n",
      "engine is a main part of car\n"
     ]
    }
   ],
   "source": [
    "#example program for Has-A Relationship\n",
    "class engine:\n",
    "    a=10\n",
    "    def __init__(self):\n",
    "        self.b=20\n",
    "    def m1(self):\n",
    "        print(\"engine is a main part of car\")\n",
    "class car:\n",
    "    def __init__(self):\n",
    "        self.engine=engine()\n",
    "    def m2(self):\n",
    "        print(\"car class using engine class functionality\")\n",
    "        print(self.engine.a+self.engine.b)\n",
    "        self.engine.m1()\n",
    "c=car()\n",
    "c.m2()\n",
    "        "
   ]
  },
  {
   "cell_type": "markdown",
   "metadata": {},
   "source": [
    "### Example 2"
   ]
  },
  {
   "cell_type": "code",
   "execution_count": 5,
   "metadata": {},
   "outputs": [
    {
     "name": "stdout",
     "output_type": "stream",
     "text": [
      "employee name: Venky\n",
      "employee model: 1008\n",
      "employee car information:\n",
      "car name: BMW\n",
      "car model: CD-5011\n",
      "car colour: blue\n"
     ]
    }
   ],
   "source": [
    "class car:\n",
    "    def __init__(self,name,model,colour):\n",
    "        self.name=name\n",
    "        self.model=model\n",
    "        self.colour=colour\n",
    "    def info(self):\n",
    "        print(\"car name:\",self.name)\n",
    "        print(\"car model:\",self.model)\n",
    "        print(\"car colour:\",self.colour)\n",
    "class employee:\n",
    "    def __init__(self,ename,eno,car):\n",
    "        self.ename=ename\n",
    "        self.eno=eno\n",
    "        self.car=car\n",
    "    def einfo(self):\n",
    "        print(\"employee name:\",self.ename)\n",
    "        print(\"employee model:\",self.eno)\n",
    "        print(\"employee car information:\")\n",
    "        self.car.info()\n",
    "c=car(\"BMW\",\"CD-5011\",\"blue\")\n",
    "e=employee(\"Venky\",1008,c)\n",
    "e.einfo()\n",
    "        \n",
    "        "
   ]
  },
  {
   "cell_type": "markdown",
   "metadata": {},
   "source": [
    "### Example 3"
   ]
  },
  {
   "cell_type": "code",
   "execution_count": 8,
   "metadata": {},
   "outputs": [
    {
     "name": "stdout",
     "output_type": "stream",
     "text": [
      "a value of x in class y: 10\n",
      "b value of x in class y: 20\n",
      "m1 method of x class\n",
      "c value of class y is: 30\n",
      "d value of class y is: 40\n",
      "m2 method method of y class\n",
      "m2 method of class y\n"
     ]
    }
   ],
   "source": [
    "class x:\n",
    "    a=10\n",
    "    def __init__(self):\n",
    "        self.b=20\n",
    "    def m1(self):\n",
    "        print(\"m1 method of x class\")\n",
    "class y:\n",
    "    c=30\n",
    "    def __init__(self):\n",
    "        self.d=40\n",
    "    def m2(self):\n",
    "        print(\"m2 method method of y class\")\n",
    "    def m3(self):\n",
    "        x1=x()\n",
    "        print(\"a value of x in class y:\",x1.a)\n",
    "        print(\"b value of x in class y:\",x1.b)\n",
    "        x1.m1() #calling of m1 of class x in class y with object reference\n",
    "        print(\"c value of class y is:\",y.c)\n",
    "        print(\"d value of class y is:\",self.d)\n",
    "        self.m2()\n",
    "        print(\"m2 method of class y\")\n",
    "y1=y()\n",
    "y1.m3()\n",
    "        \n",
    "        \n",
    "        "
   ]
  },
  {
   "cell_type": "code",
   "execution_count": null,
   "metadata": {},
   "outputs": [],
   "source": [
    " 2.BY INHERITANCE(IS-A RELATIONSHIP)\n",
    "    \n",
    "whatever the variables,methods,constructers available in parent class by\n",
    "default available to child and we are not required to rewrite\n",
    "We can extend the functionality with some more extra functionality\n"
   ]
  },
  {
   "cell_type": "code",
   "execution_count": 10,
   "metadata": {},
   "outputs": [
    {
     "name": "stdout",
     "output_type": "stream",
     "text": [
      "a value of parent class: 10\n",
      "b value of parent class: 20\n",
      "parent instance method\n",
      "parent class method\n",
      "parent class static method\n"
     ]
    }
   ],
   "source": [
    "class parent:\n",
    "    a=10\n",
    "    def __init__(self):\n",
    "        self.b=20\n",
    "    def m1(self):\n",
    "        print(\"parent instance method\")\n",
    "    @classmethod\n",
    "    def m2(cla):\n",
    "        print(\"parent class method\")\n",
    "    @staticmethod\n",
    "    def m3():\n",
    "        print(\"parent class static method\")\n",
    "class child(parent):\n",
    "    pass\n",
    "c=child()\n",
    "print(\"a value of parent class:\",c.a)\n",
    "print(\"b value of parent class:\",c.b)\n",
    "c.m1()\n",
    "c.m2()\n",
    "c.m3()\n"
   ]
  },
  {
   "cell_type": "code",
   "execution_count": null,
   "metadata": {},
   "outputs": [],
   "source": []
  }
 ],
 "metadata": {
  "kernelspec": {
   "display_name": "Python 3",
   "language": "python",
   "name": "python3"
  },
  "language_info": {
   "codemirror_mode": {
    "name": "ipython",
    "version": 3
   },
   "file_extension": ".py",
   "mimetype": "text/x-python",
   "name": "python",
   "nbconvert_exporter": "python",
   "pygments_lexer": "ipython3",
   "version": "3.8.5"
  }
 },
 "nbformat": 4,
 "nbformat_minor": 4
}
