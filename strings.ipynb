{
 "cells": [
  {
   "cell_type": "markdown",
   "metadata": {},
   "source": [
    "## Removing of spaces from string"
   ]
  },
  {
   "cell_type": "markdown",
   "metadata": {},
   "source": [
    "### strip() removes the spaces both sides of string\n",
    "### rstrip() removes the spaces right side of the string\n",
    "### lstrip() removes the spaces left side of the string"
   ]
  },
  {
   "cell_type": "code",
   "execution_count": 1,
   "metadata": {},
   "outputs": [
    {
     "name": "stdout",
     "output_type": "stream",
     "text": [
      "enter string:  priya  \n",
      "  priya  \n",
      "priya\n"
     ]
    }
   ],
   "source": [
    "s=input(\"enter string:\")\n",
    "print(s)\n",
    "s1=s.strip()\n",
    "print(s1)"
   ]
  },
  {
   "cell_type": "code",
   "execution_count": 4,
   "metadata": {},
   "outputs": [
    {
     "name": "stdout",
     "output_type": "stream",
     "text": [
      "enter string:priya\n",
      "priya\n",
      "spaces removed\n"
     ]
    }
   ],
   "source": [
    "s=input(\"enter string:\")\n",
    "print(s)\n",
    "if s==\"priya\":\n",
    "    print(\"spaces removed\")"
   ]
  },
  {
   "cell_type": "code",
   "execution_count": 9,
   "metadata": {},
   "outputs": [
    {
     "name": "stdout",
     "output_type": "stream",
     "text": [
      "enter string:priya\n",
      "priya\n",
      "spaces removed\n"
     ]
    }
   ],
   "source": [
    "s=input(\"enter string:\")\n",
    "print(s)\n",
    "if s==\"priya\":\n",
    "    print(\"spaces removed\")\n",
    "else:\n",
    "    print(\"please remove the spaces\")\n",
    "    s1=s.lstrp()\n",
    "    if s1==\"priya\":\n",
    "        print(\"spaces removed by strip function\")"
   ]
  },
  {
   "cell_type": "markdown",
   "metadata": {},
   "source": [
    "#  Finding substring"
   ]
  },
  {
   "cell_type": "markdown",
   "metadata": {},
   "source": [
    "## for forwarding direction\n",
    "#### 1.find()\n",
    "#### 2.index()\n",
    "## for backward direction\n",
    "#### 1.rfind()\n",
    "#### 2.rindex()"
   ]
  },
  {
   "cell_type": "markdown",
   "metadata": {},
   "source": [
    "## syntax:\n",
    "   ### s.find(substring)\n",
    "        "
   ]
  },
  {
   "cell_type": "markdown",
   "metadata": {},
   "source": [
    "##### returns index of the 1st occurance of the given substring in main string.if it is not found,then returns -1 "
   ]
  },
  {
   "cell_type": "code",
   "execution_count": 13,
   "metadata": {},
   "outputs": [
    {
     "name": "stdout",
     "output_type": "stream",
     "text": [
      "6\n",
      "0\n",
      "1\n",
      "-1\n"
     ]
    }
   ],
   "source": [
    "s=\"Hello hello Good morning,hello good evening\"\n",
    "print(s.find(\"hello\"))\n",
    "print(s.find(\"Hello\"))\n",
    "print(s.find(\"e\"))\n",
    "print(s.find(\"priya\"))"
   ]
  },
  {
   "cell_type": "markdown",
   "metadata": {},
   "source": [
    "### s.find(substring,start index,end index)"
   ]
  },
  {
   "cell_type": "code",
   "execution_count": 16,
   "metadata": {},
   "outputs": [
    {
     "name": "stdout",
     "output_type": "stream",
     "text": [
      "-1\n"
     ]
    }
   ],
   "source": [
    "s=\"Hello Hai How are you\"\n",
    "print(s.find('ha',7,15))"
   ]
  },
  {
   "cell_type": "code",
   "execution_count": 18,
   "metadata": {},
   "outputs": [
    {
     "name": "stdout",
     "output_type": "stream",
     "text": [
      "-1\n",
      "6\n"
     ]
    }
   ],
   "source": [
    "s=\"Hello Hai How are you\"\n",
    "print(s.find('ha',7,15))\n",
    "print(s.find('Ha',2,15))"
   ]
  },
  {
   "cell_type": "markdown",
   "metadata": {},
   "source": [
    "## index()\n",
    "##### this is same as find method except that if the substring is not found ,it will give value error"
   ]
  },
  {
   "cell_type": "code",
   "execution_count": 19,
   "metadata": {},
   "outputs": [
    {
     "ename": "ValueError",
     "evalue": "substring not found",
     "output_type": "error",
     "traceback": [
      "\u001b[1;31m---------------------------------------------------------------------------\u001b[0m",
      "\u001b[1;31mValueError\u001b[0m                                Traceback (most recent call last)",
      "\u001b[1;32m<ipython-input-19-ac0ef8124eac>\u001b[0m in \u001b[0;36m<module>\u001b[1;34m\u001b[0m\n\u001b[0;32m      1\u001b[0m \u001b[0ms\u001b[0m\u001b[1;33m=\u001b[0m\u001b[1;34m\"hello priya chowdary\"\u001b[0m\u001b[1;33m\u001b[0m\u001b[1;33m\u001b[0m\u001b[0m\n\u001b[1;32m----> 2\u001b[1;33m \u001b[0mprint\u001b[0m\u001b[1;33m(\u001b[0m\u001b[0ms\u001b[0m\u001b[1;33m.\u001b[0m\u001b[0mindex\u001b[0m\u001b[1;33m(\u001b[0m\u001b[1;34m\"pooji\"\u001b[0m\u001b[1;33m)\u001b[0m\u001b[1;33m)\u001b[0m\u001b[1;33m\u001b[0m\u001b[1;33m\u001b[0m\u001b[0m\n\u001b[0m",
      "\u001b[1;31mValueError\u001b[0m: substring not found"
     ]
    }
   ],
   "source": [
    "s=\"hello priya chowdary\"\n",
    "print(s.index(\"pooji\"))"
   ]
  },
  {
   "cell_type": "code",
   "execution_count": 52,
   "metadata": {},
   "outputs": [
    {
     "name": "stdout",
     "output_type": "stream",
     "text": [
      "substring is not found\n"
     ]
    }
   ],
   "source": [
    "s=\"hello priya chowdary\"\n",
    "try:\n",
    "    print(s.index(\"pooji\"))\n",
    "except ValueError:\n",
    "    print(\"substring is not found\")"
   ]
  },
  {
   "cell_type": "markdown",
   "metadata": {},
   "source": [
    "# counting substring in main string"
   ]
  },
  {
   "cell_type": "code",
   "execution_count": 32,
   "metadata": {},
   "outputs": [
    {
     "name": "stdout",
     "output_type": "stream",
     "text": [
      "0\n",
      "4\n",
      "5\n",
      "0\n"
     ]
    }
   ],
   "source": [
    "s=\"Hello good Morning,Hello,Hello,Hello How are You,you\"\n",
    "print(s.count(\"hello\"))\n",
    "print(s.count(\"Hello\"))\n",
    "print(s.count('H'))\n",
    "print(s.count(\"Hello,10,40\"))"
   ]
  },
  {
   "cell_type": "markdown",
   "metadata": {},
   "source": [
    "# Replacing a string with another string"
   ]
  },
  {
   "cell_type": "code",
   "execution_count": 31,
   "metadata": {},
   "outputs": [
    {
     "name": "stdout",
     "output_type": "stream",
     "text": [
      "Hello Good Morning,priya,Hello,How are you\n",
      "Hello Good Morning,hello,Hello,How are you\n",
      "2339550382960\n",
      "2339551800464\n"
     ]
    }
   ],
   "source": [
    "s=\"Hello Good Morning,hello,Hello,How are you\"\n",
    "s1=s.replace(\"hello\",\"priya\")\n",
    "print(s1)\n",
    "print(s)\n",
    "print(id(s1))\n",
    "print(id(s))"
   ]
  },
  {
   "cell_type": "markdown",
   "metadata": {},
   "source": [
    "##### once we create a string object ,we cannot modify the content,because string is immutable object.\n",
    "##### even if we modify,instead of changing the content in original object,it creates new object"
   ]
  },
  {
   "cell_type": "markdown",
   "metadata": {},
   "source": [
    "# splitting of strings"
   ]
  },
  {
   "cell_type": "code",
   "execution_count": 33,
   "metadata": {},
   "outputs": [
    {
     "name": "stdout",
     "output_type": "stream",
     "text": [
      "['Hello', 'priya', 'chowdary']\n"
     ]
    }
   ],
   "source": [
    "s=\"Hello priya chowdary\"\n",
    "l=s.split()\n",
    "print(l)"
   ]
  },
  {
   "cell_type": "code",
   "execution_count": 36,
   "metadata": {},
   "outputs": [
    {
     "name": "stdout",
     "output_type": "stream",
     "text": [
      "['27', '04', '2021']\n"
     ]
    }
   ],
   "source": [
    "date='27-04-2021'\n",
    "l=date.split('-')\n",
    "print(l)\n"
   ]
  },
  {
   "cell_type": "markdown",
   "metadata": {},
   "source": [
    "# Joining of strings"
   ]
  },
  {
   "cell_type": "markdown",
   "metadata": {},
   "source": [
    "#### syntax:\n",
    "#### s=separator.join(group strings)"
   ]
  },
  {
   "cell_type": "code",
   "execution_count": 55,
   "metadata": {},
   "outputs": [
    {
     "name": "stdout",
     "output_type": "stream",
     "text": [
      "priya-chowdary\n",
      "priyachowdary\n"
     ]
    }
   ],
   "source": [
    "l=(\"priya\",\"chowdary\")\n",
    "s='-'.join(l)\n",
    "s1=''.join(l)\n",
    "print(s)\n",
    "print(s1)"
   ]
  },
  {
   "cell_type": "code",
   "execution_count": null,
   "metadata": {},
   "outputs": [],
   "source": []
  }
 ],
 "metadata": {
  "kernelspec": {
   "display_name": "Python 3",
   "language": "python",
   "name": "python3"
  },
  "language_info": {
   "codemirror_mode": {
    "name": "ipython",
    "version": 3
   },
   "file_extension": ".py",
   "mimetype": "text/x-python",
   "name": "python",
   "nbconvert_exporter": "python",
   "pygments_lexer": "ipython3",
   "version": "3.8.5"
  }
 },
 "nbformat": 4,
 "nbformat_minor": 4
}
