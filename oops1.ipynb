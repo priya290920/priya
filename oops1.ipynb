{
 "cells": [
  {
   "cell_type": "code",
   "execution_count": 2,
   "metadata": {},
   "outputs": [
    {
     "name": "stdout",
     "output_type": "stream",
     "text": [
      "hello phyton oops concepts start from today\n"
     ]
    }
   ],
   "source": [
    "#example program for class\n",
    "class phyton6pm:\n",
    "    '''hello phyton oops concepts start from today'''\n",
    "print(phyton6pm.__doc__)"
   ]
  },
  {
   "cell_type": "code",
   "execution_count": 3,
   "metadata": {},
   "outputs": [
    {
     "name": "stdout",
     "output_type": "stream",
     "text": [
      "Help on class phyton6pm in module __main__:\n",
      "\n",
      "class phyton6pm(builtins.object)\n",
      " |  hello phyton oops concepts start from today\n",
      " |  \n",
      " |  Data descriptors defined here:\n",
      " |  \n",
      " |  __dict__\n",
      " |      dictionary for instance variables (if defined)\n",
      " |  \n",
      " |  __weakref__\n",
      " |      list of weak references to the object (if defined)\n",
      "\n"
     ]
    }
   ],
   "source": [
    "help(phyton6pm)"
   ]
  },
  {
   "cell_type": "code",
   "execution_count": 24,
   "metadata": {},
   "outputs": [
    {
     "name": "stdout",
     "output_type": "stream",
     "text": [
      "hello i am: venky\n",
      "my age is: 48\n",
      "my marks are: 98\n"
     ]
    }
   ],
   "source": [
    "#example of class with variables and methods\n",
    "class student:\n",
    "    '''this is the class of student details'''\n",
    "    def __init__(self):\n",
    "        self.name=\"venky\"\n",
    "        self.age=48\n",
    "        self.marks=98\n",
    "    def details(self):\n",
    "        print(\"hello i am:\",self.name)\n",
    "        print(\"my age is:\",self.age)\n",
    "        print(\"my marks are:\",self.marks)\n",
    "d=student()\n",
    "d.details()"
   ]
  },
  {
   "cell_type": "code",
   "execution_count": 11,
   "metadata": {},
   "outputs": [
    {
     "name": "stdout",
     "output_type": "stream",
     "text": [
      "Help on class student in module __main__:\n",
      "\n",
      "class student(builtins.object)\n",
      " |  this is the class of student details\n",
      " |  \n",
      " |  Methods defined here:\n",
      " |  \n",
      " |  __init__(self)\n",
      " |      Initialize self.  See help(type(self)) for accurate signature.\n",
      " |  \n",
      " |  details(self)\n",
      " |  \n",
      " |  ----------------------------------------------------------------------\n",
      " |  Data descriptors defined here:\n",
      " |  \n",
      " |  __dict__\n",
      " |      dictionary for instance variables (if defined)\n",
      " |  \n",
      " |  __weakref__\n",
      " |      list of weak references to the object (if defined)\n",
      "\n"
     ]
    }
   ],
   "source": [
    "help(student)"
   ]
  },
  {
   "cell_type": "code",
   "execution_count": 23,
   "metadata": {},
   "outputs": [
    {
     "name": "stdout",
     "output_type": "stream",
     "text": [
      "hello i am: priya\n",
      "my age is: 20\n",
      "my marks are: 100\n"
     ]
    }
   ],
   "source": [
    "#example of class with variables and methods\n",
    "class student:\n",
    "    '''this is the class of student details'''\n",
    "    def __init__(self,name,age,marks):\n",
    "        self.name=name\n",
    "        self.age=age\n",
    "        self.marks=marks\n",
    "    def details(self):\n",
    "        print(\"hello i am:\",self.name)\n",
    "        print(\"my age is:\",self.age)\n",
    "        print(\"my marks are:\",self.marks)\n",
    "d=student(\"priya\",20,100)\n",
    "d.details()"
   ]
  },
  {
   "cell_type": "code",
   "execution_count": 17,
   "metadata": {},
   "outputs": [
    {
     "name": "stdout",
     "output_type": "stream",
     "text": [
      "constructer execution\n",
      "method execution\n"
     ]
    }
   ],
   "source": [
    "#program to demonstrate the concept of constructer will be executed only once per object\n",
    "class test:\n",
    "    def __init__(self):\n",
    "        print(\"constructer execution\")\n",
    "    def m1(self):\n",
    "        print(\"method execution\")\n",
    "d1=test()\n",
    "d1.m1()"
   ]
  },
  {
   "cell_type": "code",
   "execution_count": 18,
   "metadata": {},
   "outputs": [
    {
     "name": "stdout",
     "output_type": "stream",
     "text": [
      "constructer execution\n",
      "constructer execution\n",
      "method execution\n"
     ]
    }
   ],
   "source": [
    "#program to demonstrate the concept of constructer will be executed only once per object\n",
    "class test:\n",
    "    def __init__(self):\n",
    "        print(\"constructer execution\")\n",
    "    def m1(self):\n",
    "        print(\"method execution\")\n",
    "d1=test()\n",
    "d2=test()\n",
    "d1.m1()"
   ]
  },
  {
   "cell_type": "code",
   "execution_count": 19,
   "metadata": {},
   "outputs": [
    {
     "name": "stdout",
     "output_type": "stream",
     "text": [
      "constructer execution\n",
      "constructer execution\n",
      "method execution\n",
      "method execution\n"
     ]
    }
   ],
   "source": [
    "#program to demonstrate the concept of constructer will be executed only once per object\n",
    "class test:\n",
    "    def __init__(self):\n",
    "        print(\"constructer execution\")\n",
    "    def m1(self):\n",
    "        print(\"method execution\")\n",
    "d1=test()\n",
    "d2=test()\n",
    "d1.m1()\n",
    "d2.m1()"
   ]
  },
  {
   "cell_type": "code",
   "execution_count": 25,
   "metadata": {},
   "outputs": [
    {
     "name": "stdout",
     "output_type": "stream",
     "text": [
      "constructer execution\n",
      "method execution\n"
     ]
    }
   ],
   "source": [
    "#program to demonstrate the concept of constructer will be executed only once per object\n",
    "class test:\n",
    "    def __init__(self):\n",
    "        print(\"constructer execution\")\n",
    "    def m1(self):\n",
    "        print(\"method execution\")\n",
    "d1=test()\n",
    "d1.m1()"
   ]
  },
  {
   "cell_type": "code",
   "execution_count": 27,
   "metadata": {},
   "outputs": [
    {
     "name": "stdout",
     "output_type": "stream",
     "text": [
      "constructer execution\n",
      "priya\n",
      "method execution\n"
     ]
    }
   ],
   "source": [
    "#program to demonstrate the concept of constructer will be executed only once per object\n",
    "class test:\n",
    "    def __init__(self):\n",
    "        print(\"constructer execution\")\n",
    "        print(\"priya\")\n",
    "    def m1(self):\n",
    "        print(\"method execution\")\n",
    "d1=test()\n",
    "d1.m1()"
   ]
  },
  {
   "cell_type": "code",
   "execution_count": 28,
   "metadata": {},
   "outputs": [
    {
     "name": "stdout",
     "output_type": "stream",
     "text": [
      "constructer execution\n",
      "priya\n",
      "constructer execution\n",
      "priya\n"
     ]
    }
   ],
   "source": [
    "d3=test()\n",
    "d3.__init__()"
   ]
  },
  {
   "cell_type": "code",
   "execution_count": null,
   "metadata": {},
   "outputs": [],
   "source": []
  }
 ],
 "metadata": {
  "kernelspec": {
   "display_name": "Python 3",
   "language": "python",
   "name": "python3"
  },
  "language_info": {
   "codemirror_mode": {
    "name": "ipython",
    "version": 3
   },
   "file_extension": ".py",
   "mimetype": "text/x-python",
   "name": "python",
   "nbconvert_exporter": "python",
   "pygments_lexer": "ipython3",
   "version": "3.8.5"
  }
 },
 "nbformat": 4,
 "nbformat_minor": 4
}
