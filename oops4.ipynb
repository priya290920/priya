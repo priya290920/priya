{
 "cells": [
  {
   "cell_type": "markdown",
   "metadata": {},
   "source": [
    "### we can modify the static variables only with clsname or cls variable"
   ]
  },
  {
   "cell_type": "code",
   "execution_count": 2,
   "metadata": {},
   "outputs": [
    {
     "name": "stdout",
     "output_type": "stream",
     "text": [
      "welcome to SBI BANK\n",
      "enter your name:priya\n",
      "D-deposit\n",
      "W-withdraw\n",
      "E-exit\n",
      "choose your choiced\n",
      "enter amount:30000\n",
      "balance after deposit: 30000.0\n",
      "D-deposit\n",
      "W-withdraw\n",
      "E-exit\n",
      "choose your choicew\n",
      "enter amount200\n",
      "balance after withdraw: 29800.0\n",
      "D-deposit\n",
      "W-withdraw\n",
      "E-exit\n",
      "choose your choice2345\n",
      "invalid option please choose valid option to process\n",
      "D-deposit\n",
      "W-withdraw\n",
      "E-exit\n",
      "choose your choicew\n",
      "enter amount2345\n",
      "balance after withdraw: 27455.0\n",
      "D-deposit\n",
      "W-withdraw\n",
      "E-exit\n",
      "choose your choicee\n",
      "thanks for banking with SBI\n"
     ]
    },
    {
     "ename": "SystemExit",
     "evalue": "",
     "output_type": "error",
     "traceback": [
      "An exception has occurred, use %tb to see the full traceback.\n",
      "\u001b[1;31mSystemExit\u001b[0m\n"
     ]
    }
   ],
   "source": [
    "import sys\n",
    "class customer:\n",
    "    Bankname=\"SBI BANK\"\n",
    "    def __init__(self,name,balance=0.0):\n",
    "        self.name=name\n",
    "        self.balance=balance\n",
    "    def deposit(self,amount):\n",
    "        self.balance=self.balance+amount\n",
    "        print(\"balance after deposit:\",self.balance)\n",
    "    def withdraw(self,amount):\n",
    "        if amount>self.balance:\n",
    "            print(\"insufficient funds in your account...\")\n",
    "            sys.exit()\n",
    "        else:\n",
    "            self.balance=self.balance-amount\n",
    "            print(\"balance after withdraw:\",self.balance)\n",
    "print(\"welcome to\",customer.Bankname)\n",
    "name=input(\"enter your name:\")\n",
    "c=customer(name)\n",
    "while True:\n",
    "    print(\"D-deposit\\nW-withdraw\\nE-exit\")\n",
    "    option=input(\"choose your choice\")\n",
    "    if option==\"D\" or option==\"d\":\n",
    "        amount=float(input(\"enter amount:\"))\n",
    "        c.deposit(amount)\n",
    "    elif option==\"W\" or option==\"w\":\n",
    "        amount=int(input(\"enter amount\"))\n",
    "        c.withdraw(amount)\n",
    "    elif option==\"E\" or option==\"e\":\n",
    "        print(\"thanks for banking with SBI\")\n",
    "        sys.exit()\n",
    "    else:\n",
    "        print(\"invalid option please choose valid option to process\")\n",
    "\n",
    "\n",
    "            "
   ]
  },
  {
   "cell_type": "markdown",
   "metadata": {},
   "source": [
    "## Types of methods "
   ]
  },
  {
   "cell_type": "code",
   "execution_count": null,
   "metadata": {},
   "outputs": [],
   "source": [
    "1.instance methods\n",
    "2.class methods\n",
    "3.static methods"
   ]
  },
  {
   "cell_type": "markdown",
   "metadata": {},
   "source": [
    "### 1.Instance method"
   ]
  },
  {
   "cell_type": "code",
   "execution_count": null,
   "metadata": {},
   "outputs": [],
   "source": [
    "1.inside method implementation if we are using instance variables then such\n",
    "type of methods are called instance methods\n",
    "2.inside instance method declaration,we have top pass self variable.\n",
    "example:def m(self):\n",
    "3.by using self variable inside method,we can able access instance variables\n",
    "4.within the class we can call instance method by using self variable and\n",
    "from outside of the class we can call,by using object reference variable"
   ]
  },
  {
   "cell_type": "code",
   "execution_count": 7,
   "metadata": {},
   "outputs": [
    {
     "name": "stdout",
     "output_type": "stream",
     "text": [
      "enter number of students2\n",
      "enter student name:pooji\n",
      "enter student marks:98\n",
      "student name: pooji\n",
      "student marks: 98\n",
      "you got O grade\n",
      "enter student name:priya\n",
      "enter student marks:95\n",
      "student name: priya\n",
      "student marks: 95\n",
      "you got O grade\n"
     ]
    }
   ],
   "source": [
    "#example program for instance methods\n",
    "class student:\n",
    "    def __init__(self,name,marks):\n",
    "        self.name=name\n",
    "        self.marks=marks\n",
    "    def display(self):\n",
    "        print(\"student name:\",self.name)\n",
    "        print(\"student marks:\",self.marks)\n",
    "    def grade(self):\n",
    "        if self.marks<40:\n",
    "            print(\"you are failed\")\n",
    "        elif self.marks>=40 and self.marks<50:\n",
    "            print(\"you got C grade\")\n",
    "        elif self.marks>=50 and self.marks<60:\n",
    "            print(\"you got B grade\")\n",
    "        elif self.marks>=60 and self.marks<70:\n",
    "            print(\"you got A grade\")\n",
    "        elif self.marks>=70 and self.marks<100:\n",
    "            print(\"you got O grade\")\n",
    "n=int(input(\"enter number of students\"))\n",
    "for i in range(n):\n",
    "    name=input(\"enter student name:\")\n",
    "    marks=int(input(\"enter student marks:\"))\n",
    "    s=student(name,marks)\n",
    "    s.display()\n",
    "    s.grade()\n",
    "        \n",
    "        \n",
    "        \n",
    "        "
   ]
  },
  {
   "cell_type": "markdown",
   "metadata": {},
   "source": [
    "### 2.class method"
   ]
  },
  {
   "cell_type": "code",
   "execution_count": null,
   "metadata": {},
   "outputs": [],
   "source": [
    "1.inside the method implementation if we are using\n",
    "class variable(static variables)then such methods are called class methods.\n",
    "2.we can declare method explicity by using @classmethod decorator\n",
    "3.for class method we should provide cla variable at the time of declaration.\n",
    "4.we can call classmethod by using class name or object reference variable"
   ]
  },
  {
   "cell_type": "code",
   "execution_count": 11,
   "metadata": {},
   "outputs": [
    {
     "name": "stdout",
     "output_type": "stream",
     "text": [
      "priya walks with 4 legs\n",
      "priya walks with 4 legs\n"
     ]
    }
   ],
   "source": [
    "#example program for class method\n",
    "class animal:\n",
    "    legs=4 #static variable\n",
    "    @classmethod\n",
    "    def m(cls,legs):\n",
    "        print(\"{} walks with {} legs\".format(name,cls.legs))\n",
    "animal.m(\"dog\")\n",
    "a=animal()\n",
    "a.m(\"cat\")\n",
    "        "
   ]
  },
  {
   "cell_type": "code",
   "execution_count": 13,
   "metadata": {},
   "outputs": [
    {
     "name": "stdout",
     "output_type": "stream",
     "text": [
      "this is classmethod without decorator: 4\n"
     ]
    }
   ],
   "source": [
    "#example program for class method\n",
    "class animal:\n",
    "    legs=4 #static variable\n",
    "    \n",
    "    def m(cls):\n",
    "        print(\"this is classmethod without decorator:\",cls.legs)\n",
    "animal.m=classmethod(animal.m)\n",
    "animal.m()"
   ]
  },
  {
   "cell_type": "markdown",
   "metadata": {},
   "source": [
    "### 3.Static method "
   ]
  },
  {
   "cell_type": "code",
   "execution_count": null,
   "metadata": {},
   "outputs": [],
   "source": [
    "1.while we creating static method we will not use either cls variable or\n",
    "self variable\n",
    "2.we can create static method with @staticmethod decorator\n",
    "3.we can access the static method by using classname or\n",
    "object reference variable"
   ]
  },
  {
   "cell_type": "code",
   "execution_count": 18,
   "metadata": {},
   "outputs": [
    {
     "name": "stdout",
     "output_type": "stream",
     "text": [
      "this is static methout cls or self variables\n",
      "add of a,b is: 30\n",
      "add of a,b is: 11\n"
     ]
    }
   ],
   "source": [
    "#example program for static method\n",
    "class Test:\n",
    "    @staticmethod\n",
    "    def m():\n",
    "        print(\"this is static methout cls or self variables\")\n",
    "    @staticmethod\n",
    "    def m1(a,b):\n",
    "        print(\"add of a,b is:\",a+b)\n",
    "Test.m()\n",
    "t=Test()\n",
    "t.m1(10,20)\n",
    "Test.m1(5,6)"
   ]
  },
  {
   "cell_type": "code",
   "execution_count": 19,
   "metadata": {},
   "outputs": [
    {
     "name": "stdout",
     "output_type": "stream",
     "text": [
      "this is static methout cls or self variables\n",
      "add of a,b is: 30\n",
      "this is static methout cls or self variables\n"
     ]
    }
   ],
   "source": [
    "#example program for static method\n",
    "class Test:\n",
    "    @staticmethod\n",
    "    def m():\n",
    "        print(\"this is static methout cls or self variables\")\n",
    "    @staticmethod\n",
    "    def m1(a,b):\n",
    "        print(\"add of a,b is:\",a+b)\n",
    "Test.m()\n",
    "t=Test()\n",
    "t.m1(10,20)\n",
    "Test.m()"
   ]
  },
  {
   "cell_type": "code",
   "execution_count": 20,
   "metadata": {},
   "outputs": [
    {
     "name": "stdout",
     "output_type": "stream",
     "text": [
      "this is static methout cls or self variables\n"
     ]
    }
   ],
   "source": [
    "#example program for static method\n",
    "class Test:\n",
    "    @staticmethod\n",
    "    def m():\n",
    "        print(\"this is static methout cls or self variables\")\n",
    "    @staticmethod\n",
    "    def m1(a,b):\n",
    "        print(\"add of a,b is:\",a+b)\n",
    "Test.m()"
   ]
  },
  {
   "cell_type": "code",
   "execution_count": null,
   "metadata": {},
   "outputs": [],
   "source": []
  }
 ],
 "metadata": {
  "kernelspec": {
   "display_name": "Python 3",
   "language": "python",
   "name": "python3"
  },
  "language_info": {
   "codemirror_mode": {
    "name": "ipython",
    "version": 3
   },
   "file_extension": ".py",
   "mimetype": "text/x-python",
   "name": "python",
   "nbconvert_exporter": "python",
   "pygments_lexer": "ipython3",
   "version": "3.8.5"
  }
 },
 "nbformat": 4,
 "nbformat_minor": 4
}
